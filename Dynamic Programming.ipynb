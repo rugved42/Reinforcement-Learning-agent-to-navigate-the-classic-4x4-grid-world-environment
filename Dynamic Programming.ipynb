{
 "cells": [
  {
   "cell_type": "code",
   "execution_count": 379,
   "metadata": {},
   "outputs": [],
   "source": [
    "import numpy as np\n",
    "import matplotlib.pyplot as plt\n",
    "import gym\n",
    "from gym import spaces\n",
    "import time\n",
    "import copy\n",
    "import threading\n",
    "import time\n",
    "import collections"
   ]
  },
  {
   "cell_type": "markdown",
   "metadata": {},
   "source": [
    "# Implementation of Dynamic Programming"
   ]
  },
  {
   "cell_type": "code",
   "execution_count": 380,
   "metadata": {},
   "outputs": [],
   "source": [
    "class GridEnvironment(gym.Env):\n",
    "    metadata = { 'render.modes': [] }\n",
    "    \n",
    "    def __init__(self):\n",
    "        self.observation_space = spaces.Discrete(16)\n",
    "        self.action_space = spaces.Discrete(4)\n",
    "        self.max_timesteps = 10\n",
    "        \n",
    "    def reset(self):\n",
    "        self.timestep = 0\n",
    "        self.agent_pos = [0, 0]\n",
    "        self.goal_pos = [3, 3]\n",
    "        self.state = np.zeros((4,4))\n",
    "        self.state[tuple(self.agent_pos)] = 1\n",
    "        self.state[tuple(self.goal_pos)] = 0.5\n",
    "        observation = self.state.flatten()\n",
    "        return observation\n",
    "    \n",
    "    def step(self, action):\n",
    "        STOCASTIC = True\n",
    "        # self.state = np.random.choice(self.observation_space.n)\n",
    "        if action == 0:   #(Down)\n",
    "            self.agent_pos[0] += 1\n",
    "            self.agent_pos = np.clip(self.agent_pos, 0, 3)\n",
    "            if(STOCASTIC == True):\n",
    "                if(self.agent_pos == [1,1]).all():\n",
    "                    if(np.random.uniform(0,1) < 0.05):\n",
    "                        self.agent_pos[0] -= 1\n",
    "        if action == 1:  #(Up)\n",
    "            self.agent_pos[0] -= 1\n",
    "            self.agent_pos = np.clip(self.agent_pos, 0, 3)\n",
    "            if(STOCASTIC == True):  \n",
    "                if(self.agent_pos == [1,1]).all(): \n",
    "                    if(np.random.uniform(0,1) < 0.05):\n",
    "                        self.agent_pos[0] -= 1\n",
    "            \n",
    "        if action == 2:  #Right\n",
    "            self.agent_pos[1] += 1\n",
    "            self.agent_pos = np.clip(self.agent_pos, 0, 3)\n",
    "            if(STOCASTIC == True): \n",
    "                if(self.agent_pos == [1,1]).all():\n",
    "                    if(np.random.uniform(0,1) < 0.05):\n",
    "                        self.agent_pos[1] -= 1\n",
    "        \n",
    "        if action == 3:  #Left\n",
    "            self.agent_pos[1] -= 1\n",
    "            self.agent_pos = np.clip(self.agent_pos, 0, 3)\n",
    "            if(STOCASTIC == True):  \n",
    "                if(self.agent_pos == [1,1]).all():\n",
    "                    if(np.random.uniform(0,1) < 0.05):\n",
    "                        self.agent_pos[1] += 1\n",
    "        self.agent_pos = np.clip(self.agent_pos, 0, 1)\n",
    "#         observation = reset(self)\n",
    "        self.state = np.zeros((4,4))\n",
    "        self.state[tuple(self.agent_pos)] = 1\n",
    "        self.state[tuple(self.goal_pos)] = 0.5\n",
    "        observation = self.state.flatten()\n",
    "#         reward = 0\n",
    "#         if (self.agent_pos == self.goal_pos).all():\n",
    "#           reward = 1\n",
    "        M_X = 4  #Maximum index in x\n",
    "        M_Y = 4  #Maximum index in y\n",
    "        nA = 4   #Total actions\n",
    "        nS = 16  # Total States\n",
    "        P = {}  #Transition Probability\n",
    "#         print(grid)\n",
    "        it = np.nditer(grid, flags=['multi_index'])\n",
    "        while not it.finished:\n",
    "            s = it.iterindex\n",
    "            y, x = it.multi_index\n",
    "#             print(s,x,y)\n",
    "            P[s] = {a : [] for a in range(nA)}   # P[s][a] = (prob, next_state, reward, is_done)\n",
    "            is_done = lambda s: s == 0 or s == (nS - 1)\n",
    "            reward = 0 if is_done(s) else 6 if s == 6 else -4 if s == 12 else -1\n",
    "            #when reward is zero at terminal state it will return True else it will return false. \n",
    "            if is_done(s): #when is_done will be true that means the agent is at terminal state.\n",
    "                P[s][0] = [(1.0, s, reward, True)]\n",
    "                P[s][1] = [(1.0, s, reward, True)]\n",
    "                P[s][2] = [(1.0, s, reward, True)]\n",
    "                P[s][3] = [(1.0, s, reward, True)]\n",
    "    \n",
    "            else:                           #Not a terminal state. \n",
    "                if y == 0:\n",
    "                    ns_up = s\n",
    "                    if(STOCASTIC == True):\n",
    "                        if(np.random.uniform(0,1) < 0.05):\n",
    "                            ns_up = s + M_X        \n",
    "                else : \n",
    "                    ns_up = s - M_X\n",
    "                ns_right = s if x == (M_X - 1) else s + 1\n",
    "                ns_down = s if y == (M_Y - 1) else s + M_X\n",
    "                ns_left = s if x == 0 else s - 1\n",
    "                P[s][0] = [(1.0, ns_down, reward, is_done(ns_down))]\n",
    "                P[s][1] = [(1.0, ns_up, reward, is_done(ns_up))]\n",
    "                P[s][2] = [(1.0, ns_right, reward, is_done(ns_right))]\n",
    "                P[s][3] = [(1.0, ns_left, reward, is_done(ns_left))]\n",
    "\n",
    "            it.iternext()\n",
    "        isd = np.ones(nS) / nS\n",
    "        self.P = P       \n",
    "        self.timestep += 1\n",
    "        done = True if self.timestep >= self.max_timesteps else False\n",
    "        info = {}\n",
    "        return P, observation, reward, done, info\n",
    "        \n",
    "    def render(self):\n",
    "        plt.imshow(self.state)\n",
    "        "
   ]
  },
  {
   "cell_type": "markdown",
   "metadata": {},
   "source": [
    "Rendering The Environment"
   ]
  },
  {
   "cell_type": "code",
   "execution_count": 366,
   "metadata": {},
   "outputs": [
    {
     "name": "stdout",
     "output_type": "stream",
     "text": [
      "obs =  [1.  0.  0.  0.  0.  0.  0.  0.  0.  0.  0.  0.  0.  0.  0.  0.5]\n"
     ]
    },
    {
     "data": {
      "image/png": "[encoded data removed]",
      "text/plain": [
       "<Figure size 432x288 with 1 Axes>"
      ]
     },
     "metadata": {
      "needs_background": "light"
     },
     "output_type": "display_data"
    }
   ],
   "source": [
    "#Action Commands \n",
    "# 0 - down\n",
    "# 1 - up\n",
    "# 2 - right\n",
    "# 3 - left\n",
    "env = GridEnvironment()\n",
    "obs = env.reset()\n",
    "print(\"obs = \", obs)\n",
    "env.render()"
   ]
  },
  {
   "cell_type": "markdown",
   "metadata": {},
   "source": [
    "Random Agent"
   ]
  },
  {
   "cell_type": "code",
   "execution_count": 368,
   "metadata": {},
   "outputs": [],
   "source": [
    "class RandomAgent:\n",
    "    def __init__(self, env):\n",
    "        self.env = env\n",
    "        self.observation_space = env.observation_space\n",
    "        self.action_space = env.action_space\n",
    "        \n",
    "    def step(self, observation):\n",
    "        return np.random.choice(self.action_space.n)"
   ]
  },
  {
   "cell_type": "markdown",
   "metadata": {},
   "source": [
    " Setting up environment and agent You can Visualize the policy here. For every state other than terminal states, the states\n",
    "  after the action has taken is visible. The states can be seen in the transition probability matrix printed below. \n",
    "  The Stochasticity in states can also be seen in that dictionery. After stochasticity the agent will move to some other\n",
    "  states than defined. \n",
    "  It can be read as For 1st state, There are for actions, after each action the position of the agent is changed and is\n",
    "  visible.\n",
    "   P[s][0] = [(1.0, ns_down, reward, is_done(ns_down))] in this format."
   ]
  },
  {
   "cell_type": "code",
   "execution_count": 370,
   "metadata": {},
   "outputs": [
    {
     "name": "stdout",
     "output_type": "stream",
     "text": [
      "[1.  0.  0.  0.  0.  0.  0.  0.  0.  0.  0.  0.  0.  0.  0.  0.5]\n",
      "action 2\n",
      "Reward: {0: {0: [(1.0, 0, 0, True)], 1: [(1.0, 0, 0, True)], 2: [(1.0, 0, 0, True)], 3: [(1.0, 0, 0, True)]}, 1: {0: [(1.0, 5, -1, False)], 1: [(1.0, 1, -1, False)], 2: [(1.0, 2, -1, False)], 3: [(1.0, 0, -1, True)]}, 2: {0: [(1.0, 6, -1, False)], 1: [(1.0, 2, -1, False)], 2: [(1.0, 3, -1, False)], 3: [(1.0, 1, -1, False)]}, 3: {0: [(1.0, 7, -1, False)], 1: [(1.0, 3, -1, False)], 2: [(1.0, 3, -1, False)], 3: [(1.0, 2, -1, False)]}, 4: {0: [(1.0, 8, -1, False)], 1: [(1.0, 0, -1, True)], 2: [(1.0, 5, -1, False)], 3: [(1.0, 4, -1, False)]}, 5: {0: [(1.0, 9, -1, False)], 1: [(1.0, 1, -1, False)], 2: [(1.0, 6, -1, False)], 3: [(1.0, 4, -1, False)]}, 6: {0: [(1.0, 10, 6, False)], 1: [(1.0, 2, 6, False)], 2: [(1.0, 7, 6, False)], 3: [(1.0, 5, 6, False)]}, 7: {0: [(1.0, 11, -1, False)], 1: [(1.0, 3, -1, False)], 2: [(1.0, 7, -1, False)], 3: [(1.0, 6, -1, False)]}, 8: {0: [(1.0, 12, -1, False)], 1: [(1.0, 4, -1, False)], 2: [(1.0, 9, -1, False)], 3: [(1.0, 8, -1, False)]}, 9: {0: [(1.0, 13, -1, False)], 1: [(1.0, 5, -1, False)], 2: [(1.0, 10, -1, False)], 3: [(1.0, 8, -1, False)]}, 10: {0: [(1.0, 14, -1, False)], 1: [(1.0, 6, -1, False)], 2: [(1.0, 11, -1, False)], 3: [(1.0, 9, -1, False)]}, 11: {0: [(1.0, 15, -1, True)], 1: [(1.0, 7, -1, False)], 2: [(1.0, 11, -1, False)], 3: [(1.0, 10, -1, False)]}, 12: {0: [(1.0, 12, -4, False)], 1: [(1.0, 8, -4, False)], 2: [(1.0, 13, -4, False)], 3: [(1.0, 12, -4, False)]}, 13: {0: [(1.0, 13, -1, False)], 1: [(1.0, 9, -1, False)], 2: [(1.0, 14, -1, False)], 3: [(1.0, 12, -1, False)]}, 14: {0: [(1.0, 14, -1, False)], 1: [(1.0, 10, -1, False)], 2: [(1.0, 15, -1, True)], 3: [(1.0, 13, -1, False)]}, 15: {0: [(1.0, 15, 0, True)], 1: [(1.0, 15, 0, True)], 2: [(1.0, 15, 0, True)], 3: [(1.0, 15, 0, True)]}}\n"
     ]
    },
    {
     "data": {
      "image/png": "[encoded data removed]",
      "text/plain": [
       "<Figure size 432x288 with 1 Axes>"
      ]
     },
     "metadata": {
      "needs_background": "light"
     },
     "output_type": "display_data"
    },
    {
     "name": "stdout",
     "output_type": "stream",
     "text": [
      "[0.  1.  0.  0.  0.  0.  0.  0.  0.  0.  0.  0.  0.  0.  0.  0.5]\n",
      "action 3\n",
      "Reward: {0: {0: [(1.0, 0, 0, True)], 1: [(1.0, 0, 0, True)], 2: [(1.0, 0, 0, True)], 3: [(1.0, 0, 0, True)]}, 1: {0: [(1.0, 5, -1, False)], 1: [(1.0, 1, -1, False)], 2: [(1.0, 2, -1, False)], 3: [(1.0, 0, -1, True)]}, 2: {0: [(1.0, 6, -1, False)], 1: [(1.0, 2, -1, False)], 2: [(1.0, 3, -1, False)], 3: [(1.0, 1, -1, False)]}, 3: {0: [(1.0, 7, -1, False)], 1: [(1.0, 7, -1, False)], 2: [(1.0, 3, -1, False)], 3: [(1.0, 2, -1, False)]}, 4: {0: [(1.0, 8, -1, False)], 1: [(1.0, 0, -1, True)], 2: [(1.0, 5, -1, False)], 3: [(1.0, 4, -1, False)]}, 5: {0: [(1.0, 9, -1, False)], 1: [(1.0, 1, -1, False)], 2: [(1.0, 6, -1, False)], 3: [(1.0, 4, -1, False)]}, 6: {0: [(1.0, 10, 6, False)], 1: [(1.0, 2, 6, False)], 2: [(1.0, 7, 6, False)], 3: [(1.0, 5, 6, False)]}, 7: {0: [(1.0, 11, -1, False)], 1: [(1.0, 3, -1, False)], 2: [(1.0, 7, -1, False)], 3: [(1.0, 6, -1, False)]}, 8: {0: [(1.0, 12, -1, False)], 1: [(1.0, 4, -1, False)], 2: [(1.0, 9, -1, False)], 3: [(1.0, 8, -1, False)]}, 9: {0: [(1.0, 13, -1, False)], 1: [(1.0, 5, -1, False)], 2: [(1.0, 10, -1, False)], 3: [(1.0, 8, -1, False)]}, 10: {0: [(1.0, 14, -1, False)], 1: [(1.0, 6, -1, False)], 2: [(1.0, 11, -1, False)], 3: [(1.0, 9, -1, False)]}, 11: {0: [(1.0, 15, -1, True)], 1: [(1.0, 7, -1, False)], 2: [(1.0, 11, -1, False)], 3: [(1.0, 10, -1, False)]}, 12: {0: [(1.0, 12, -4, False)], 1: [(1.0, 8, -4, False)], 2: [(1.0, 13, -4, False)], 3: [(1.0, 12, -4, False)]}, 13: {0: [(1.0, 13, -1, False)], 1: [(1.0, 9, -1, False)], 2: [(1.0, 14, -1, False)], 3: [(1.0, 12, -1, False)]}, 14: {0: [(1.0, 14, -1, False)], 1: [(1.0, 10, -1, False)], 2: [(1.0, 15, -1, True)], 3: [(1.0, 13, -1, False)]}, 15: {0: [(1.0, 15, 0, True)], 1: [(1.0, 15, 0, True)], 2: [(1.0, 15, 0, True)], 3: [(1.0, 15, 0, True)]}}\n"
     ]
    },
    {
     "data": {
      "image/png": "[encoded data removed]",
      "text/plain": [
       "<Figure size 432x288 with 1 Axes>"
      ]
     },
     "metadata": {
      "needs_background": "light"
     },
     "output_type": "display_data"
    },
    {
     "name": "stdout",
     "output_type": "stream",
     "text": [
      "[1.  0.  0.  0.  0.  0.  0.  0.  0.  0.  0.  0.  0.  0.  0.  0.5]\n",
      "action 1\n",
      "Reward: {0: {0: [(1.0, 0, 0, True)], 1: [(1.0, 0, 0, True)], 2: [(1.0, 0, 0, True)], 3: [(1.0, 0, 0, True)]}, 1: {0: [(1.0, 5, -1, False)], 1: [(1.0, 1, -1, False)], 2: [(1.0, 2, -1, False)], 3: [(1.0, 0, -1, True)]}, 2: {0: [(1.0, 6, -1, False)], 1: [(1.0, 2, -1, False)], 2: [(1.0, 3, -1, False)], 3: [(1.0, 1, -1, False)]}, 3: {0: [(1.0, 7, -1, False)], 1: [(1.0, 7, -1, False)], 2: [(1.0, 3, -1, False)], 3: [(1.0, 2, -1, False)]}, 4: {0: [(1.0, 8, -1, False)], 1: [(1.0, 0, -1, True)], 2: [(1.0, 5, -1, False)], 3: [(1.0, 4, -1, False)]}, 5: {0: [(1.0, 9, -1, False)], 1: [(1.0, 1, -1, False)], 2: [(1.0, 6, -1, False)], 3: [(1.0, 4, -1, False)]}, 6: {0: [(1.0, 10, 6, False)], 1: [(1.0, 2, 6, False)], 2: [(1.0, 7, 6, False)], 3: [(1.0, 5, 6, False)]}, 7: {0: [(1.0, 11, -1, False)], 1: [(1.0, 3, -1, False)], 2: [(1.0, 7, -1, False)], 3: [(1.0, 6, -1, False)]}, 8: {0: [(1.0, 12, -1, False)], 1: [(1.0, 4, -1, False)], 2: [(1.0, 9, -1, False)], 3: [(1.0, 8, -1, False)]}, 9: {0: [(1.0, 13, -1, False)], 1: [(1.0, 5, -1, False)], 2: [(1.0, 10, -1, False)], 3: [(1.0, 8, -1, False)]}, 10: {0: [(1.0, 14, -1, False)], 1: [(1.0, 6, -1, False)], 2: [(1.0, 11, -1, False)], 3: [(1.0, 9, -1, False)]}, 11: {0: [(1.0, 15, -1, True)], 1: [(1.0, 7, -1, False)], 2: [(1.0, 11, -1, False)], 3: [(1.0, 10, -1, False)]}, 12: {0: [(1.0, 12, -4, False)], 1: [(1.0, 8, -4, False)], 2: [(1.0, 13, -4, False)], 3: [(1.0, 12, -4, False)]}, 13: {0: [(1.0, 13, -1, False)], 1: [(1.0, 9, -1, False)], 2: [(1.0, 14, -1, False)], 3: [(1.0, 12, -1, False)]}, 14: {0: [(1.0, 14, -1, False)], 1: [(1.0, 10, -1, False)], 2: [(1.0, 15, -1, True)], 3: [(1.0, 13, -1, False)]}, 15: {0: [(1.0, 15, 0, True)], 1: [(1.0, 15, 0, True)], 2: [(1.0, 15, 0, True)], 3: [(1.0, 15, 0, True)]}}\n"
     ]
    },
    {
     "data": {
      "image/png": "[encoded data removed]",
      "text/plain": [
       "<Figure size 432x288 with 1 Axes>"
      ]
     },
     "metadata": {
      "needs_background": "light"
     },
     "output_type": "display_data"
    },
    {
     "name": "stdout",
     "output_type": "stream",
     "text": [
      "[1.  0.  0.  0.  0.  0.  0.  0.  0.  0.  0.  0.  0.  0.  0.  0.5]\n",
      "action 1\n",
      "Reward: {0: {0: [(1.0, 0, 0, True)], 1: [(1.0, 0, 0, True)], 2: [(1.0, 0, 0, True)], 3: [(1.0, 0, 0, True)]}, 1: {0: [(1.0, 5, -1, False)], 1: [(1.0, 1, -1, False)], 2: [(1.0, 2, -1, False)], 3: [(1.0, 0, -1, True)]}, 2: {0: [(1.0, 6, -1, False)], 1: [(1.0, 2, -1, False)], 2: [(1.0, 3, -1, False)], 3: [(1.0, 1, -1, False)]}, 3: {0: [(1.0, 7, -1, False)], 1: [(1.0, 3, -1, False)], 2: [(1.0, 3, -1, False)], 3: [(1.0, 2, -1, False)]}, 4: {0: [(1.0, 8, -1, False)], 1: [(1.0, 0, -1, True)], 2: [(1.0, 5, -1, False)], 3: [(1.0, 4, -1, False)]}, 5: {0: [(1.0, 9, -1, False)], 1: [(1.0, 1, -1, False)], 2: [(1.0, 6, -1, False)], 3: [(1.0, 4, -1, False)]}, 6: {0: [(1.0, 10, 6, False)], 1: [(1.0, 2, 6, False)], 2: [(1.0, 7, 6, False)], 3: [(1.0, 5, 6, False)]}, 7: {0: [(1.0, 11, -1, False)], 1: [(1.0, 3, -1, False)], 2: [(1.0, 7, -1, False)], 3: [(1.0, 6, -1, False)]}, 8: {0: [(1.0, 12, -1, False)], 1: [(1.0, 4, -1, False)], 2: [(1.0, 9, -1, False)], 3: [(1.0, 8, -1, False)]}, 9: {0: [(1.0, 13, -1, False)], 1: [(1.0, 5, -1, False)], 2: [(1.0, 10, -1, False)], 3: [(1.0, 8, -1, False)]}, 10: {0: [(1.0, 14, -1, False)], 1: [(1.0, 6, -1, False)], 2: [(1.0, 11, -1, False)], 3: [(1.0, 9, -1, False)]}, 11: {0: [(1.0, 15, -1, True)], 1: [(1.0, 7, -1, False)], 2: [(1.0, 11, -1, False)], 3: [(1.0, 10, -1, False)]}, 12: {0: [(1.0, 12, -4, False)], 1: [(1.0, 8, -4, False)], 2: [(1.0, 13, -4, False)], 3: [(1.0, 12, -4, False)]}, 13: {0: [(1.0, 13, -1, False)], 1: [(1.0, 9, -1, False)], 2: [(1.0, 14, -1, False)], 3: [(1.0, 12, -1, False)]}, 14: {0: [(1.0, 14, -1, False)], 1: [(1.0, 10, -1, False)], 2: [(1.0, 15, -1, True)], 3: [(1.0, 13, -1, False)]}, 15: {0: [(1.0, 15, 0, True)], 1: [(1.0, 15, 0, True)], 2: [(1.0, 15, 0, True)], 3: [(1.0, 15, 0, True)]}}\n"
     ]
    },
    {
     "data": {
      "image/png": "[encoded data removed]",
      "text/plain": [
       "<Figure size 432x288 with 1 Axes>"
      ]
     },
     "metadata": {
      "needs_background": "light"
     },
     "output_type": "display_data"
    },
    {
     "name": "stdout",
     "output_type": "stream",
     "text": [
      "[1.  0.  0.  0.  0.  0.  0.  0.  0.  0.  0.  0.  0.  0.  0.  0.5]\n",
      "action 3\n",
      "Reward: {0: {0: [(1.0, 0, 0, True)], 1: [(1.0, 0, 0, True)], 2: [(1.0, 0, 0, True)], 3: [(1.0, 0, 0, True)]}, 1: {0: [(1.0, 5, -1, False)], 1: [(1.0, 1, -1, False)], 2: [(1.0, 2, -1, False)], 3: [(1.0, 0, -1, True)]}, 2: {0: [(1.0, 6, -1, False)], 1: [(1.0, 2, -1, False)], 2: [(1.0, 3, -1, False)], 3: [(1.0, 1, -1, False)]}, 3: {0: [(1.0, 7, -1, False)], 1: [(1.0, 3, -1, False)], 2: [(1.0, 3, -1, False)], 3: [(1.0, 2, -1, False)]}, 4: {0: [(1.0, 8, -1, False)], 1: [(1.0, 0, -1, True)], 2: [(1.0, 5, -1, False)], 3: [(1.0, 4, -1, False)]}, 5: {0: [(1.0, 9, -1, False)], 1: [(1.0, 1, -1, False)], 2: [(1.0, 6, -1, False)], 3: [(1.0, 4, -1, False)]}, 6: {0: [(1.0, 10, 6, False)], 1: [(1.0, 2, 6, False)], 2: [(1.0, 7, 6, False)], 3: [(1.0, 5, 6, False)]}, 7: {0: [(1.0, 11, -1, False)], 1: [(1.0, 3, -1, False)], 2: [(1.0, 7, -1, False)], 3: [(1.0, 6, -1, False)]}, 8: {0: [(1.0, 12, -1, False)], 1: [(1.0, 4, -1, False)], 2: [(1.0, 9, -1, False)], 3: [(1.0, 8, -1, False)]}, 9: {0: [(1.0, 13, -1, False)], 1: [(1.0, 5, -1, False)], 2: [(1.0, 10, -1, False)], 3: [(1.0, 8, -1, False)]}, 10: {0: [(1.0, 14, -1, False)], 1: [(1.0, 6, -1, False)], 2: [(1.0, 11, -1, False)], 3: [(1.0, 9, -1, False)]}, 11: {0: [(1.0, 15, -1, True)], 1: [(1.0, 7, -1, False)], 2: [(1.0, 11, -1, False)], 3: [(1.0, 10, -1, False)]}, 12: {0: [(1.0, 12, -4, False)], 1: [(1.0, 8, -4, False)], 2: [(1.0, 13, -4, False)], 3: [(1.0, 12, -4, False)]}, 13: {0: [(1.0, 13, -1, False)], 1: [(1.0, 9, -1, False)], 2: [(1.0, 14, -1, False)], 3: [(1.0, 12, -1, False)]}, 14: {0: [(1.0, 14, -1, False)], 1: [(1.0, 10, -1, False)], 2: [(1.0, 15, -1, True)], 3: [(1.0, 13, -1, False)]}, 15: {0: [(1.0, 15, 0, True)], 1: [(1.0, 15, 0, True)], 2: [(1.0, 15, 0, True)], 3: [(1.0, 15, 0, True)]}}\n"
     ]
    },
    {
     "data": {
      "image/png": "[encoded data removed]",
      "text/plain": [
       "<Figure size 432x288 with 1 Axes>"
      ]
     },
     "metadata": {
      "needs_background": "light"
     },
     "output_type": "display_data"
    },
    {
     "name": "stdout",
     "output_type": "stream",
     "text": [
      "[1.  0.  0.  0.  0.  0.  0.  0.  0.  0.  0.  0.  0.  0.  0.  0.5]\n",
      "action 3\n",
      "Reward: {0: {0: [(1.0, 0, 0, True)], 1: [(1.0, 0, 0, True)], 2: [(1.0, 0, 0, True)], 3: [(1.0, 0, 0, True)]}, 1: {0: [(1.0, 5, -1, False)], 1: [(1.0, 1, -1, False)], 2: [(1.0, 2, -1, False)], 3: [(1.0, 0, -1, True)]}, 2: {0: [(1.0, 6, -1, False)], 1: [(1.0, 2, -1, False)], 2: [(1.0, 3, -1, False)], 3: [(1.0, 1, -1, False)]}, 3: {0: [(1.0, 7, -1, False)], 1: [(1.0, 3, -1, False)], 2: [(1.0, 3, -1, False)], 3: [(1.0, 2, -1, False)]}, 4: {0: [(1.0, 8, -1, False)], 1: [(1.0, 0, -1, True)], 2: [(1.0, 5, -1, False)], 3: [(1.0, 4, -1, False)]}, 5: {0: [(1.0, 9, -1, False)], 1: [(1.0, 1, -1, False)], 2: [(1.0, 6, -1, False)], 3: [(1.0, 4, -1, False)]}, 6: {0: [(1.0, 10, 6, False)], 1: [(1.0, 2, 6, False)], 2: [(1.0, 7, 6, False)], 3: [(1.0, 5, 6, False)]}, 7: {0: [(1.0, 11, -1, False)], 1: [(1.0, 3, -1, False)], 2: [(1.0, 7, -1, False)], 3: [(1.0, 6, -1, False)]}, 8: {0: [(1.0, 12, -1, False)], 1: [(1.0, 4, -1, False)], 2: [(1.0, 9, -1, False)], 3: [(1.0, 8, -1, False)]}, 9: {0: [(1.0, 13, -1, False)], 1: [(1.0, 5, -1, False)], 2: [(1.0, 10, -1, False)], 3: [(1.0, 8, -1, False)]}, 10: {0: [(1.0, 14, -1, False)], 1: [(1.0, 6, -1, False)], 2: [(1.0, 11, -1, False)], 3: [(1.0, 9, -1, False)]}, 11: {0: [(1.0, 15, -1, True)], 1: [(1.0, 7, -1, False)], 2: [(1.0, 11, -1, False)], 3: [(1.0, 10, -1, False)]}, 12: {0: [(1.0, 12, -4, False)], 1: [(1.0, 8, -4, False)], 2: [(1.0, 13, -4, False)], 3: [(1.0, 12, -4, False)]}, 13: {0: [(1.0, 13, -1, False)], 1: [(1.0, 9, -1, False)], 2: [(1.0, 14, -1, False)], 3: [(1.0, 12, -1, False)]}, 14: {0: [(1.0, 14, -1, False)], 1: [(1.0, 10, -1, False)], 2: [(1.0, 15, -1, True)], 3: [(1.0, 13, -1, False)]}, 15: {0: [(1.0, 15, 0, True)], 1: [(1.0, 15, 0, True)], 2: [(1.0, 15, 0, True)], 3: [(1.0, 15, 0, True)]}}\n"
     ]
    },
    {
     "data": {
      "image/png": "[encoded data removed]",
      "text/plain": [
       "<Figure size 432x288 with 1 Axes>"
      ]
     },
     "metadata": {
      "needs_background": "light"
     },
     "output_type": "display_data"
    },
    {
     "name": "stdout",
     "output_type": "stream",
     "text": [
      "[1.  0.  0.  0.  0.  0.  0.  0.  0.  0.  0.  0.  0.  0.  0.  0.5]\n",
      "action 1\n",
      "Reward: {0: {0: [(1.0, 0, 0, True)], 1: [(1.0, 0, 0, True)], 2: [(1.0, 0, 0, True)], 3: [(1.0, 0, 0, True)]}, 1: {0: [(1.0, 5, -1, False)], 1: [(1.0, 1, -1, False)], 2: [(1.0, 2, -1, False)], 3: [(1.0, 0, -1, True)]}, 2: {0: [(1.0, 6, -1, False)], 1: [(1.0, 2, -1, False)], 2: [(1.0, 3, -1, False)], 3: [(1.0, 1, -1, False)]}, 3: {0: [(1.0, 7, -1, False)], 1: [(1.0, 3, -1, False)], 2: [(1.0, 3, -1, False)], 3: [(1.0, 2, -1, False)]}, 4: {0: [(1.0, 8, -1, False)], 1: [(1.0, 0, -1, True)], 2: [(1.0, 5, -1, False)], 3: [(1.0, 4, -1, False)]}, 5: {0: [(1.0, 9, -1, False)], 1: [(1.0, 1, -1, False)], 2: [(1.0, 6, -1, False)], 3: [(1.0, 4, -1, False)]}, 6: {0: [(1.0, 10, 6, False)], 1: [(1.0, 2, 6, False)], 2: [(1.0, 7, 6, False)], 3: [(1.0, 5, 6, False)]}, 7: {0: [(1.0, 11, -1, False)], 1: [(1.0, 3, -1, False)], 2: [(1.0, 7, -1, False)], 3: [(1.0, 6, -1, False)]}, 8: {0: [(1.0, 12, -1, False)], 1: [(1.0, 4, -1, False)], 2: [(1.0, 9, -1, False)], 3: [(1.0, 8, -1, False)]}, 9: {0: [(1.0, 13, -1, False)], 1: [(1.0, 5, -1, False)], 2: [(1.0, 10, -1, False)], 3: [(1.0, 8, -1, False)]}, 10: {0: [(1.0, 14, -1, False)], 1: [(1.0, 6, -1, False)], 2: [(1.0, 11, -1, False)], 3: [(1.0, 9, -1, False)]}, 11: {0: [(1.0, 15, -1, True)], 1: [(1.0, 7, -1, False)], 2: [(1.0, 11, -1, False)], 3: [(1.0, 10, -1, False)]}, 12: {0: [(1.0, 12, -4, False)], 1: [(1.0, 8, -4, False)], 2: [(1.0, 13, -4, False)], 3: [(1.0, 12, -4, False)]}, 13: {0: [(1.0, 13, -1, False)], 1: [(1.0, 9, -1, False)], 2: [(1.0, 14, -1, False)], 3: [(1.0, 12, -1, False)]}, 14: {0: [(1.0, 14, -1, False)], 1: [(1.0, 10, -1, False)], 2: [(1.0, 15, -1, True)], 3: [(1.0, 13, -1, False)]}, 15: {0: [(1.0, 15, 0, True)], 1: [(1.0, 15, 0, True)], 2: [(1.0, 15, 0, True)], 3: [(1.0, 15, 0, True)]}}\n"
     ]
    },
    {
     "data": {
      "image/png": "[encoded data removed]",
      "text/plain": [
       "<Figure size 432x288 with 1 Axes>"
      ]
     },
     "metadata": {
      "needs_background": "light"
     },
     "output_type": "display_data"
    },
    {
     "name": "stdout",
     "output_type": "stream",
     "text": [
      "[1.  0.  0.  0.  0.  0.  0.  0.  0.  0.  0.  0.  0.  0.  0.  0.5]\n",
      "action 0\n",
      "Reward: {0: {0: [(1.0, 0, 0, True)], 1: [(1.0, 0, 0, True)], 2: [(1.0, 0, 0, True)], 3: [(1.0, 0, 0, True)]}, 1: {0: [(1.0, 5, -1, False)], 1: [(1.0, 1, -1, False)], 2: [(1.0, 2, -1, False)], 3: [(1.0, 0, -1, True)]}, 2: {0: [(1.0, 6, -1, False)], 1: [(1.0, 2, -1, False)], 2: [(1.0, 3, -1, False)], 3: [(1.0, 1, -1, False)]}, 3: {0: [(1.0, 7, -1, False)], 1: [(1.0, 3, -1, False)], 2: [(1.0, 3, -1, False)], 3: [(1.0, 2, -1, False)]}, 4: {0: [(1.0, 8, -1, False)], 1: [(1.0, 0, -1, True)], 2: [(1.0, 5, -1, False)], 3: [(1.0, 4, -1, False)]}, 5: {0: [(1.0, 9, -1, False)], 1: [(1.0, 1, -1, False)], 2: [(1.0, 6, -1, False)], 3: [(1.0, 4, -1, False)]}, 6: {0: [(1.0, 10, 6, False)], 1: [(1.0, 2, 6, False)], 2: [(1.0, 7, 6, False)], 3: [(1.0, 5, 6, False)]}, 7: {0: [(1.0, 11, -1, False)], 1: [(1.0, 3, -1, False)], 2: [(1.0, 7, -1, False)], 3: [(1.0, 6, -1, False)]}, 8: {0: [(1.0, 12, -1, False)], 1: [(1.0, 4, -1, False)], 2: [(1.0, 9, -1, False)], 3: [(1.0, 8, -1, False)]}, 9: {0: [(1.0, 13, -1, False)], 1: [(1.0, 5, -1, False)], 2: [(1.0, 10, -1, False)], 3: [(1.0, 8, -1, False)]}, 10: {0: [(1.0, 14, -1, False)], 1: [(1.0, 6, -1, False)], 2: [(1.0, 11, -1, False)], 3: [(1.0, 9, -1, False)]}, 11: {0: [(1.0, 15, -1, True)], 1: [(1.0, 7, -1, False)], 2: [(1.0, 11, -1, False)], 3: [(1.0, 10, -1, False)]}, 12: {0: [(1.0, 12, -4, False)], 1: [(1.0, 8, -4, False)], 2: [(1.0, 13, -4, False)], 3: [(1.0, 12, -4, False)]}, 13: {0: [(1.0, 13, -1, False)], 1: [(1.0, 9, -1, False)], 2: [(1.0, 14, -1, False)], 3: [(1.0, 12, -1, False)]}, 14: {0: [(1.0, 14, -1, False)], 1: [(1.0, 10, -1, False)], 2: [(1.0, 15, -1, True)], 3: [(1.0, 13, -1, False)]}, 15: {0: [(1.0, 15, 0, True)], 1: [(1.0, 15, 0, True)], 2: [(1.0, 15, 0, True)], 3: [(1.0, 15, 0, True)]}}\n"
     ]
    },
    {
     "data": {
      "image/png": "[encoded data removed]",
      "text/plain": [
       "<Figure size 432x288 with 1 Axes>"
      ]
     },
     "metadata": {
      "needs_background": "light"
     },
     "output_type": "display_data"
    },
    {
     "name": "stdout",
     "output_type": "stream",
     "text": [
      "[0.  0.  0.  0.  1.  0.  0.  0.  0.  0.  0.  0.  0.  0.  0.  0.5]\n",
      "action 3\n",
      "Reward: {0: {0: [(1.0, 0, 0, True)], 1: [(1.0, 0, 0, True)], 2: [(1.0, 0, 0, True)], 3: [(1.0, 0, 0, True)]}, 1: {0: [(1.0, 5, -1, False)], 1: [(1.0, 1, -1, False)], 2: [(1.0, 2, -1, False)], 3: [(1.0, 0, -1, True)]}, 2: {0: [(1.0, 6, -1, False)], 1: [(1.0, 2, -1, False)], 2: [(1.0, 3, -1, False)], 3: [(1.0, 1, -1, False)]}, 3: {0: [(1.0, 7, -1, False)], 1: [(1.0, 3, -1, False)], 2: [(1.0, 3, -1, False)], 3: [(1.0, 2, -1, False)]}, 4: {0: [(1.0, 8, -1, False)], 1: [(1.0, 0, -1, True)], 2: [(1.0, 5, -1, False)], 3: [(1.0, 4, -1, False)]}, 5: {0: [(1.0, 9, -1, False)], 1: [(1.0, 1, -1, False)], 2: [(1.0, 6, -1, False)], 3: [(1.0, 4, -1, False)]}, 6: {0: [(1.0, 10, 6, False)], 1: [(1.0, 2, 6, False)], 2: [(1.0, 7, 6, False)], 3: [(1.0, 5, 6, False)]}, 7: {0: [(1.0, 11, -1, False)], 1: [(1.0, 3, -1, False)], 2: [(1.0, 7, -1, False)], 3: [(1.0, 6, -1, False)]}, 8: {0: [(1.0, 12, -1, False)], 1: [(1.0, 4, -1, False)], 2: [(1.0, 9, -1, False)], 3: [(1.0, 8, -1, False)]}, 9: {0: [(1.0, 13, -1, False)], 1: [(1.0, 5, -1, False)], 2: [(1.0, 10, -1, False)], 3: [(1.0, 8, -1, False)]}, 10: {0: [(1.0, 14, -1, False)], 1: [(1.0, 6, -1, False)], 2: [(1.0, 11, -1, False)], 3: [(1.0, 9, -1, False)]}, 11: {0: [(1.0, 15, -1, True)], 1: [(1.0, 7, -1, False)], 2: [(1.0, 11, -1, False)], 3: [(1.0, 10, -1, False)]}, 12: {0: [(1.0, 12, -4, False)], 1: [(1.0, 8, -4, False)], 2: [(1.0, 13, -4, False)], 3: [(1.0, 12, -4, False)]}, 13: {0: [(1.0, 13, -1, False)], 1: [(1.0, 9, -1, False)], 2: [(1.0, 14, -1, False)], 3: [(1.0, 12, -1, False)]}, 14: {0: [(1.0, 14, -1, False)], 1: [(1.0, 10, -1, False)], 2: [(1.0, 15, -1, True)], 3: [(1.0, 13, -1, False)]}, 15: {0: [(1.0, 15, 0, True)], 1: [(1.0, 15, 0, True)], 2: [(1.0, 15, 0, True)], 3: [(1.0, 15, 0, True)]}}\n"
     ]
    },
    {
     "data": {
      "image/png": "[encoded data removed]",
      "text/plain": [
       "<Figure size 432x288 with 1 Axes>"
      ]
     },
     "metadata": {
      "needs_background": "light"
     },
     "output_type": "display_data"
    },
    {
     "name": "stdout",
     "output_type": "stream",
     "text": [
      "[0.  0.  0.  0.  1.  0.  0.  0.  0.  0.  0.  0.  0.  0.  0.  0.5]\n",
      "action 0\n",
      "Reward: {0: {0: [(1.0, 0, 0, True)], 1: [(1.0, 0, 0, True)], 2: [(1.0, 0, 0, True)], 3: [(1.0, 0, 0, True)]}, 1: {0: [(1.0, 5, -1, False)], 1: [(1.0, 1, -1, False)], 2: [(1.0, 2, -1, False)], 3: [(1.0, 0, -1, True)]}, 2: {0: [(1.0, 6, -1, False)], 1: [(1.0, 2, -1, False)], 2: [(1.0, 3, -1, False)], 3: [(1.0, 1, -1, False)]}, 3: {0: [(1.0, 7, -1, False)], 1: [(1.0, 3, -1, False)], 2: [(1.0, 3, -1, False)], 3: [(1.0, 2, -1, False)]}, 4: {0: [(1.0, 8, -1, False)], 1: [(1.0, 0, -1, True)], 2: [(1.0, 5, -1, False)], 3: [(1.0, 4, -1, False)]}, 5: {0: [(1.0, 9, -1, False)], 1: [(1.0, 1, -1, False)], 2: [(1.0, 6, -1, False)], 3: [(1.0, 4, -1, False)]}, 6: {0: [(1.0, 10, 6, False)], 1: [(1.0, 2, 6, False)], 2: [(1.0, 7, 6, False)], 3: [(1.0, 5, 6, False)]}, 7: {0: [(1.0, 11, -1, False)], 1: [(1.0, 3, -1, False)], 2: [(1.0, 7, -1, False)], 3: [(1.0, 6, -1, False)]}, 8: {0: [(1.0, 12, -1, False)], 1: [(1.0, 4, -1, False)], 2: [(1.0, 9, -1, False)], 3: [(1.0, 8, -1, False)]}, 9: {0: [(1.0, 13, -1, False)], 1: [(1.0, 5, -1, False)], 2: [(1.0, 10, -1, False)], 3: [(1.0, 8, -1, False)]}, 10: {0: [(1.0, 14, -1, False)], 1: [(1.0, 6, -1, False)], 2: [(1.0, 11, -1, False)], 3: [(1.0, 9, -1, False)]}, 11: {0: [(1.0, 15, -1, True)], 1: [(1.0, 7, -1, False)], 2: [(1.0, 11, -1, False)], 3: [(1.0, 10, -1, False)]}, 12: {0: [(1.0, 12, -4, False)], 1: [(1.0, 8, -4, False)], 2: [(1.0, 13, -4, False)], 3: [(1.0, 12, -4, False)]}, 13: {0: [(1.0, 13, -1, False)], 1: [(1.0, 9, -1, False)], 2: [(1.0, 14, -1, False)], 3: [(1.0, 12, -1, False)]}, 14: {0: [(1.0, 14, -1, False)], 1: [(1.0, 10, -1, False)], 2: [(1.0, 15, -1, True)], 3: [(1.0, 13, -1, False)]}, 15: {0: [(1.0, 15, 0, True)], 1: [(1.0, 15, 0, True)], 2: [(1.0, 15, 0, True)], 3: [(1.0, 15, 0, True)]}}\n"
     ]
    },
    {
     "data": {
      "image/png": "[encoded data removed]",
      "text/plain": [
       "<Figure size 432x288 with 1 Axes>"
      ]
     },
     "metadata": {
      "needs_background": "light"
     },
     "output_type": "display_data"
    }
   ],
   "source": [
    "env = GridEnvironment()\n",
    "agent = RandomAgent(env)\n",
    "obs = env.reset()\n",
    "done = False\n",
    "\n",
    "while not done:\n",
    "    \n",
    "    plt.show()\n",
    "    #print(env.observation_space)\n",
    "    print(obs)  \n",
    "    action = agent.step(obs)\n",
    "    print(\"action\",action)\n",
    "    env.render()\n",
    "    Prob, obs, reward, done, info = env.step(action)\n",
    "    print('Reward:', Prob)\n"
   ]
  },
  {
   "cell_type": "code",
   "execution_count": 304,
   "metadata": {},
   "outputs": [],
   "source": [
    "##Dynamic Programming "
   ]
  },
  {
   "cell_type": "code",
   "execution_count": 381,
   "metadata": {},
   "outputs": [
    {
     "name": "stdout",
     "output_type": "stream",
     "text": [
      "[0. 0. 0. 0. 0. 0. 0. 0. 0. 0. 0. 0. 0. 0. 0. 0.]\n",
      "Coverged_matrix [[ 0. -1. -1. -1.]\n",
      " [-1. -1.  6. -1.]\n",
      " [-1. -1. -1. -1.]\n",
      " [-4. -1. -1.  0.]]\n",
      "Coverged_matrix [[ 0.    -1.735 -0.265 -1.98 ]\n",
      " [-1.735 -0.265  5.02  -0.265]\n",
      " [-2.715 -1.98  -0.265 -1.735]\n",
      " [-6.45  -2.715 -1.735  0.   ]]\n",
      "Coverged_matrix [[ 0.       -1.554925 -0.7452   -2.10005 ]\n",
      " [-2.155175 -1.10535   5.7403   -0.7452  ]\n",
      " [-4.1556   -2.4602   -1.10535  -1.554925]\n",
      " [-8.49085  -4.1556   -2.155175  0.      ]]\n",
      "Coverged_matrix [[  0.          -1.83434137  -0.67166937  -2.3941725 ]\n",
      " [ -2.81695063  -1.10535      5.0932305   -0.67166938]\n",
      " [ -5.22914713  -3.5778655   -1.10535     -1.83434138]\n",
      " [-10.1967605   -5.22914713  -2.81695063   0.        ]]\n",
      "Coverged_matrix [[  0.          -1.88478338  -0.95270342  -2.50226252]\n",
      " [ -3.2421047   -1.76830211   5.12926051  -0.95270342]\n",
      " [ -6.34607732  -4.10390359  -1.76830211  -1.88478338]\n",
      " [-11.55869474  -6.34607732  -3.2421047    0.        ]]\n",
      "Coverged_matrix [[  0.          -2.12841829  -1.05156976  -2.69293331]\n",
      " [ -3.78233861  -2.00487514   4.66670729  -1.05156976]\n",
      " [ -7.18644118  -4.97604592  -2.00487514  -2.12841829]\n",
      " [-12.77333831  -7.18644118  -3.78233861   0.        ]]\n",
      "Coverged_matrix [[  0.          -2.27029148  -1.29552245  -2.83480651]\n",
      " [ -4.17854546  -2.52392341   4.502342    -1.29552245]\n",
      " [ -8.03595019  -5.503745    -2.52392341  -2.27029148]\n",
      " [-13.78029195  -8.03595019  -4.17854546   0.        ]]\n",
      "Coverged_matrix [[  0.          -2.49198565  -1.46507822  -3.02386119]\n",
      " [ -4.61091267  -2.82530878   4.12847153  -1.46507822]\n",
      " [ -8.71714049  -6.17433806  -2.82530878  -2.49198565]\n",
      " [-14.68995865  -8.71714049  -4.61091267   0.        ]]\n",
      "Coverged_matrix [[  0.          -2.6616813   -1.69885111  -3.19958031]\n",
      " [ -4.95757367  -3.24144739   3.89771037  -1.69885111]\n",
      " [ -9.37712572  -6.65580014  -3.24144739  -2.6616813 ]\n",
      " [-15.46947857  -9.37712572  -4.95757367   0.        ]]\n",
      "Coverged_matrix [[  0.          -2.86248505  -1.89728858  -3.4002314 ]\n",
      " [ -5.30615596  -3.54244946   3.57925374  -1.89728858]\n",
      " [ -9.93269464  -7.18310082  -3.54244946  -2.86248505]\n",
      " [-16.1748361   -9.93269464  -5.30615596   0.        ]]\n",
      "Coverged_matrix [[  0.          -3.03404466  -2.12228406  -3.59578479]\n",
      " [ -5.60141851  -3.88425958   3.33452836  -2.12228406]\n",
      " [-10.45621294  -7.60282061  -3.88425958  -3.03404466]\n",
      " [-16.79269006 -10.45621294  -5.60141851   0.        ]]\n",
      "Coverged_matrix [[  0.          -3.21494413  -2.32730836  -3.80185374]\n",
      " [ -5.8857633   -4.16142008   3.05679361  -2.32730836]\n",
      " [-10.91101982  -8.02683154  -4.16142008  -3.21494413]\n",
      " [-17.35196247 -10.91101982  -5.8857633    0.        ]]\n",
      "Coverged_matrix [[  0.          -3.37739978  -2.54039159  -4.00328943]\n",
      " [ -6.13475978  -4.44733261   2.82052307  -2.54039159]\n",
      " [-11.3330164   -8.38549555  -4.44733261  -3.37739978]\n",
      " [-17.84886132 -11.3330164   -6.13475978   0.        ]]\n",
      "Coverged_matrix [[  0.          -3.53945538  -2.73963664  -4.2064037 ]\n",
      " [ -6.36920166  -4.69389735   2.57601514  -2.73963664]\n",
      " [-11.7070226   -8.73237102  -4.69389735  -3.53945538]\n",
      " [-18.29912008 -11.7070226   -6.36920166   0.        ]]\n",
      "Coverged_matrix [[  0.          -3.6883824   -2.93782274  -4.40355977]\n",
      " [ -6.57867979  -4.93592816   2.35756834  -2.93782274]\n",
      " [-12.05139026  -9.03645078  -4.93592816  -3.6883824 ]\n",
      " [-18.70300991 -12.05139026  -6.57867979   0.        ]]\n",
      "Coverged_matrix [[  0.          -3.83272266  -3.12468816  -4.59727743]\n",
      " [ -6.77366956  -5.15175643   2.14186206  -3.12468816]\n",
      " [-12.36053503  -9.32378603  -5.15175643  -3.83272266]\n",
      " [-19.06965609 -12.36053503  -6.77366956   0.        ]]\n",
      "Coverged_matrix [[  0.          -3.96674598  -3.30614242  -4.78376314]\n",
      " [ -6.95006045  -5.35813747   1.94454215  -3.30614242]\n",
      " [-12.64427344  -9.58102282  -5.35813747  -3.96674598]\n",
      " [-19.40079365 -12.64427344  -6.95006045   0.        ]]\n",
      "Coverged_matrix [[  0.          -4.09460134  -3.4774668   -4.96405372]\n",
      " [ -7.11335548  -5.54555534   1.75450286  -3.4774668 ]\n",
      " [-12.90115684  -9.82118135  -5.54555534  -4.09460134]\n",
      " [-19.70208288 -12.90115684  -7.11335548   0.        ]]\n",
      "Coverged_matrix [[  0.          -4.21381775  -3.64149666  -5.13634506]\n",
      " [ -7.26221658  -5.72228565   1.57871915  -3.64149666]\n",
      " [-13.13675525 -10.03888897  -5.72228565  -4.21381775]\n",
      " [-19.97558746 -13.13675525  -7.26221658   0.        ]]\n",
      "Coverged_matrix [[  0.          -4.32651201  -3.79617038  -5.30114244]\n",
      " [ -7.39970808  -5.88437001   1.41174667  -3.79617038]\n",
      " [-13.35129482 -10.24093004  -5.88437001  -4.32651201]\n",
      " [-20.22504793 -13.35129482  -7.39970808   0.        ]]\n",
      "Coverged_matrix [[  0.          -4.43172784  -3.94295915  -5.45768328]\n",
      " [ -7.52566637  -6.03607385   1.25653521  -3.94295915]\n",
      " [-13.54816032 -10.42547577  -6.03607385  -4.43172784]\n",
      " [-20.45240795 -13.54816032  -7.52566637   0.        ]]\n",
      "Coverged_matrix [[  0.          -4.53063641  -4.08107959  -5.60631479]\n",
      " [ -7.64192563  -6.17595202   1.11027383  -4.08107959]\n",
      " [-13.72816905 -10.59627474  -6.17595202  -4.53063641]\n",
      " [-20.66027845 -13.72816905  -7.64192563   0.        ]]\n",
      "Coverged_matrix [[  0.          -4.62297866  -4.21140045  -5.74682325]\n",
      " [ -7.74878144  -6.30634792   0.97405451  -4.21140045]\n",
      " [-13.89352873 -10.75301932  -6.30634792  -4.62297866]\n",
      " [-20.85033927 -13.89352873  -7.74878144   0.        ]]\n",
      "Coverged_matrix [[  0.          -4.70947812  -4.33375122  -5.87952961]\n",
      " [ -7.84742123  -6.4269276    0.8463033   -4.33375122]\n",
      " [-14.04518885 -10.89793956  -6.4269276   -4.70947812]\n",
      " [-21.02449532 -14.04518885  -7.84742123   0.        ]]\n",
      "Coverged_matrix [[  0.          -4.79018845  -4.44873164  -6.00450761]\n",
      " [ -7.93828673  -6.53909123   0.72726737  -4.44873164]\n",
      " [-14.18468601 -11.03133706  -6.53909123  -4.79018845]\n",
      " [-21.18414524 -14.18468601  -7.93828673   0.        ]]\n",
      "Coverged_matrix [[  0.          -4.86561277  -4.55645928  -6.12208723]\n",
      " [ -8.02220567  -6.64297349   0.6159668   -4.55645928]\n",
      " [-14.31292149 -11.15465085  -6.64297349  -4.86561277]\n",
      " [-21.33072732 -14.31292149  -8.02220567   0.        ]]\n",
      "Coverged_matrix [[  0.          -4.93593616  -4.65740716  -6.23248779]\n",
      " [ -8.09963466  -6.73949311   0.51227794  -4.65740716]\n",
      " [-14.4310238  -11.26838854  -6.73949311  -4.93593616]\n",
      " [-21.46538791 -14.4310238   -8.09963466   0.        ]]\n",
      "Coverged_matrix [[  0.          -5.00154493  -4.75182053  -6.33604853]\n",
      " [ -8.17118714  -6.82896195   0.41551887  -4.75182053]\n",
      " [-14.53978656 -11.37355329  -6.82896195  -5.00154493]\n",
      " [-21.58924174 -14.53978656  -8.17118714   0.        ]]\n",
      "Coverged_matrix [[  0.          -5.06267021  -4.8401043   -6.43305584]\n",
      " [ -8.23728423  -6.91203779   0.32541659  -4.8401043 ]\n",
      " [-14.64007334 -11.47068677  -6.91203779  -5.06267021]\n",
      " [-21.70322387 -14.64007334  -8.23728423   0.        ]]\n",
      "Coverged_matrix [[  0.          -5.11962901  -4.92255137  -6.52384847]\n",
      " [ -8.29840186  -6.98908003   0.24145038  -4.92255137]\n",
      " [-14.73256071 -11.56053445  -6.98908003  -5.11962901]\n",
      " [-21.80821563 -14.73256071  -8.29840186   0.        ]]\n",
      "Coverged_matrix [[  0.          -5.1726588   -4.99952173  -6.60873592]\n",
      " [ -8.35491044  -7.06059316   0.16330061  -4.99952173]\n",
      " [-14.8179296  -11.64360396  -7.06059316  -5.1726588 ]\n",
      " [-21.90498041 -14.8179296   -8.35491044   0.        ]]\n",
      "Coverged_matrix [[  0.          -5.22202955  -5.07131588  -6.68804625]\n",
      " [ -8.40719113  -7.12692879   0.0905437   -5.07131588]\n",
      " [-14.89674898 -11.72047615  -7.12692879  -5.22202955]\n",
      " [-21.9942259  -14.89674898  -8.40719113   0.        ]]\n",
      "Coverged_matrix [[  0.          -5.26796718  -5.13825775  -6.76208744]\n",
      " [ -8.45556288  -7.18849252   0.02286011  -5.13825775]\n",
      " [-14.96956733 -11.7916021   -7.18849252  -5.26796718]\n",
      " [-22.07657769 -14.96956733  -8.45556288   0.        ]]\n",
      "Coverged_matrix [[  0.          -5.31070578  -5.20063581  -6.83116915]\n",
      " [ -8.50033757  -7.24560665  -0.04010763  -5.20063581]\n",
      " [-15.03686095 -11.85744933  -7.24560665  -5.31070578]\n",
      " [-22.15261106 -15.03686095  -8.50033757   0.        ]]\n",
      "Coverged_matrix [[  0.          -5.35045232  -5.2587415   -6.89558443]\n",
      " [ -8.54178727  -7.29860708  -0.0986588   -5.2587415 ]\n",
      " [-15.09907843 -11.91840913  -7.29860708  -5.35045232]\n",
      " [-22.22284129 -15.09907843  -8.54178727   0.        ]]\n",
      "Coverged_matrix [[  0.          -5.38741122  -5.31284208  -6.9556197 ]\n",
      " [ -8.58017083  -7.34778034  -0.1531008   -5.31284208]\n",
      " [-15.15661845 -11.9748659   -7.34778034  -5.38741122]\n",
      " [-22.28774066 -15.15661845  -8.58017083   0.        ]]\n",
      "Coverged_matrix [[  0.          -5.42176824  -5.36319858  -7.01154627]\n",
      " [ -8.61571956  -7.39340944  -0.20370499  -5.36319858]\n",
      " [-15.20985198 -12.02715541  -7.39340944  -5.42176824]\n",
      " [-22.34773596 -15.20985198  -8.61571956   0.        ]]\n",
      "Coverged_matrix [[  0.          -5.45370219  -5.41005343  -7.06362498]\n",
      " [ -8.64865034  -7.43574531  -0.25073793  -5.41005343]\n",
      " [-15.25911341 -12.0755981   -7.43574531  -5.45370219]\n",
      " [-22.40321809 -15.25911341  -8.64865034   0.        ]]\n",
      "Coverged_matrix [[  0.          -5.48337773  -5.45363904  -7.11210242]\n",
      " [ -8.67915972  -7.4750287   -0.29444138  -5.45363904]\n",
      " [-15.30471209 -12.12048077  -7.4750287   -5.48337773]\n",
      " [-22.45454244 -15.30471209  -8.67915972   0.        ]]\n",
      "Coverged_matrix [[  0.          -5.51095114  -5.49417234  -7.15721331]\n",
      " [ -8.70743062  -7.5114776   -0.33504719  -5.49417234]\n",
      " [-15.34692928 -12.16207298  -7.5114776   -5.51095114]\n",
      " [-22.50203472 -15.34692928  -8.70743062   0.        ]]\n",
      "Coverged_matrix [[  0.          -5.53656726  -5.53185908  -7.19917897]\n",
      " [ -8.73363019  -7.54529797  -0.37276847  -5.53185908]\n",
      " [-15.38602456 -12.20061937  -7.54529797  -5.53656726]\n",
      " [-22.54599236 -15.38602456  -8.73363019   0.        ]]\n",
      "Coverged_matrix [[  0.          -5.56036246  -5.56689158  -7.23820864]\n",
      " [ -8.75791342  -7.5766784   -0.40780695  -5.56689158]\n",
      " [-15.42223529 -12.23634804  -7.5766784   -5.56036246]\n",
      " [-22.58668829 -15.42223529  -8.75791342   0.        ]]\n",
      "Coverged_matrix [[  0.          -5.58246345  -5.59945106  -7.27449911]\n",
      " [ -8.78042264  -7.60579556  -0.44034929  -5.59945106]\n",
      " [-15.45578033 -12.26946771  -7.60579556  -5.58246345]\n",
      " [-22.62437255 -15.45578033  -8.78042264   0.        ]]\n",
      "Coverged_matrix [[  0.          -5.60298897  -5.62970691  -7.30823558]\n",
      " [ -8.80128964  -7.63281225  -0.47057085  -5.62970691]\n",
      " [-15.48686059 -12.30017219  -7.63281225  -5.60298897]\n",
      " [-22.65927492 -15.48686059  -8.80128964   0.        ]]\n",
      "Coverged_matrix [[  0.          -5.62204949  -5.65781806  -7.33959182]\n",
      " [ -8.82063581  -7.6578803   -0.49863439  -5.65781806]\n",
      " [-15.51566135 -12.32863969  -7.6578803   -5.62204949]\n",
      " [-22.6916064  -15.51566135  -8.82063581   0.        ]]\n",
      "Coverged_matrix [[  0.          -5.63974823  -5.68393297  -7.36873084]\n",
      " [ -8.83857348  -7.68114005  -0.5246922   -5.68393297]\n",
      " [-15.5423531  -12.35503541  -7.68114005  -5.63974823]\n",
      " [-22.7215612  -15.5423531   -8.83857348   0.        ]]\n",
      "Coverged_matrix [[  0.          -5.65618121  -5.70819054  -7.39580527]\n",
      " [ -8.85520632  -7.70272208  -0.54888578  -5.70819054]\n",
      " [-15.56709318 -12.37951164  -7.70272208  -5.65618121]\n",
      " [-22.749318   -15.56709318  -8.85520632   0.        ]]\n",
      "Coverged_matrix [[  0.          -5.67143799  -5.73072039  -7.42095795]\n",
      " [ -8.87063029  -7.72274731  -0.57134718  -5.73072039]\n",
      " [-15.59002664 -12.40220948  -7.72274731  -5.67143799]\n",
      " [-22.77504148 -15.59002664  -8.87063029   0.        ]]\n",
      "Coverged_matrix [[  0.          -5.68560189  -5.75164356  -7.44432238]\n",
      " [ -8.88493404  -7.74132811  -0.59219917  -5.75164356]\n",
      " [-15.61128743 -12.42325924  -7.74132811  -5.68560189]\n",
      " [-22.79888338 -15.61128743  -8.88493404   0.        ]]\n",
      "Coverged_matrix [[  0.          -5.69875052  -5.77107292  -7.46602331]\n",
      " [ -8.89819965  -7.75856861  -0.61155612  -5.77107292]\n",
      " [-15.6309992  -12.44278162  -7.75856861  -5.69875052]\n",
      " [-22.8209837  -15.6309992   -8.89819965   0.        ]]\n",
      "Coverged_matrix [[  0.          -5.71095605  -5.7891137   -7.48617715]\n",
      " [ -8.91050303  -7.77456554  -0.62952435  -5.7891137 ]\n",
      " [-15.64927622 -12.46088823  -7.77456554  -5.71095605]\n",
      " [-22.84147162 -15.64927622  -8.91050303   0.        ]]\n",
      "Coverged_matrix [[  0.          -5.72228565  -5.80586396  -7.50489252]\n",
      " [ -8.92191447  -7.78940856  -0.64620283  -5.80586396]\n",
      " [-15.66622408 -12.47768246  -7.78940856  -5.72228565]\n",
      " [-22.86046644 -15.66622408  -8.92191447   0.        ]]\n",
      "Coverged_matrix [[  0.          -5.73280175  -5.82141501  -7.52227067]\n",
      " [ -8.93249904  -7.80318092  -0.66168353  -5.82141501]\n",
      " [-15.68194043 -12.49325999  -7.80318092  -5.73280175]\n",
      " [-22.87807836 -15.68194043  -8.93249904   0.        ]]\n",
      "Coverged_matrix [[  0.          -5.74256243  -5.83585189  -7.53840599]\n",
      " [ -8.942317    -7.81595986  -0.67605201  -5.83585189]\n",
      " [-15.69651556 -12.50770946  -7.81595986  -5.74256243]\n",
      " [-22.8944092  -15.69651556  -8.942317     0.        ]]\n",
      "Coverged_matrix [[  0.          -5.75162167  -5.84925372  -7.55338636]\n",
      " [ -8.95142414  -7.82781702  -0.68938775  -5.84925372]\n",
      " [-15.71003305 -12.52111296  -7.82781702  -5.75162167]\n",
      " [-22.90955314 -15.71003305  -8.95142414   0.        ]]\n",
      "Coverged_matrix [[  0.          -5.76002964  -5.86169413  -7.56729364]\n",
      " [ -8.95987218  -7.8388189   -0.70176466  -5.86169413]\n",
      " [-15.7225702  -12.53354653  -7.8388189   -5.76002964]\n",
      " [-22.92359723 -15.7225702   -8.95987218   0.        ]]\n",
      "Coverged_matrix [[  0.          -5.76783295  -5.87324161  -7.580204  ]\n",
      " [ -8.96770902  -7.84902719  -0.71325138  -5.87324161]\n",
      " [-15.73419861 -12.54508066  -7.84902719  -5.76783295]\n",
      " [-22.93662204 -15.73419861  -8.96770902   0.        ]]\n",
      "Coverged_matrix [[  0.          -5.77507493  -5.88395984  -7.59218835]\n",
      " [ -8.97497903  -7.85849913  -0.72391171  -5.88395984]\n",
      " [-15.74498453 -12.55578064  -7.85849913  -5.77507493]\n",
      " [-22.94870212 -15.74498453  -8.97497903   0.        ]]\n",
      "Coverged_matrix [[  0.          -5.78179581  -5.89390803  -7.60331261]\n",
      " [ -8.98172336  -7.86728785  -0.7338049   -5.89390803]\n",
      " [-15.75498935 -12.565707    -7.86728785  -5.78179581]\n",
      " [-22.95990646 -15.75498935  -8.98172336   0.        ]]\n",
      "Coverged_matrix [[  0.          -5.78803296  -5.90314123  -7.61363812]\n",
      " [ -8.98798014  -7.87544261  -0.74298598  -5.90314123]\n",
      " [-15.76426991 -12.57491582  -7.87544261  -5.78803296]\n",
      " [-22.97029895 -15.76426991  -8.98798014   0.        ]]\n",
      "(976,)\n"
     ]
    },
    {
     "data": {
      "image/png": "[encoded data removed]",
      "text/plain": [
       "<Figure size 432x288 with 1 Axes>"
      ]
     },
     "metadata": {
      "needs_background": "light"
     },
     "output_type": "display_data"
    },
    {
     "data": {
      "image/png": "[encoded data removed]",
      "text/plain": [
       "<Figure size 432x288 with 1 Axes>"
      ]
     },
     "metadata": {
      "needs_background": "light"
     },
     "output_type": "display_data"
    },
    {
     "data": {
      "image/png": "[encoded data removed]",
      "text/plain": [
       "<Figure size 432x288 with 1 Axes>"
      ]
     },
     "metadata": {
      "needs_background": "light"
     },
     "output_type": "display_data"
    }
   ],
   "source": [
    "def policy_eval(policy, env, discount_factor=0.98, epsilon=0.01):\n",
    "    \"\"\"\n",
    "    Evaluate a policy given an environment and a full description of the environment's dynamics.\n",
    "    \n",
    "    Args:\n",
    "        policy: [S, A] shaped matrix representing the policy.\n",
    "        theta: We stop evaluation once our value function change is less than epsilon for all states.\n",
    "        discount_factor: Gamma discount factor.\n",
    "    \n",
    "    Returns:\n",
    "        Vector of length env.nS representing the value function.\n",
    "    \n",
    "    \"\"\"\n",
    "    nS = 16\n",
    "    nA = 4\n",
    "    # Start with a random (all 0) value function\n",
    "    V_old = np.zeros(16)\n",
    "    print(V_old)\n",
    "    STOCHASTIC = True\n",
    "    delta_decay = []\n",
    "    reward_data = []\n",
    "    reward_sum = 0\n",
    "    while True:\n",
    "        \n",
    "        #new value function\n",
    "        V_new = np.zeros(16)\n",
    "        #stopping condition\n",
    "        delta = 0\n",
    "\n",
    "        #loop over state space\n",
    "        for s in range(nS):\n",
    "#             env.render()\n",
    "\n",
    "            #To accumelate bellman expectation eqn\n",
    "            v_fn = 0\n",
    "#             print(s)\n",
    "#             print(policy[s])\n",
    "            #get probability distribution over actions\n",
    "            action_probs = policy[s]\n",
    "#             print(action_probs)\n",
    "            #loop over possible actions\n",
    "            for a in range(nA):\n",
    "#                 env.render()\n",
    "                #get transitions\n",
    "                [(prob, next_state, reward, done)] = env.P[s][a]\n",
    "                #apply bellman expectatoin eqn\n",
    "#                 print(reward)\n",
    "                v_fn += action_probs[a] * (reward + discount_factor * V_old[next_state])\n",
    "                reward_sum  += reward\n",
    "                \n",
    "            delta_decay.append(delta)\n",
    "            reward_data.append(reward_sum)\n",
    "            \n",
    "            \n",
    "            #get the biggest difference over state space\n",
    "            delta = max(delta, abs(v_fn - V_old[s]))\n",
    "            \n",
    "            #update state-value\n",
    "            V_new[s] = v_fn\n",
    "            \n",
    "#         delta_decay.append(delta)\n",
    "#         reward_data.append(reward_sum)\n",
    "        #the new value function\n",
    "        V_old = V_new\n",
    "        #if true value function\n",
    "        if(delta < epsilon):\n",
    "            break\n",
    "#         print(type(V_old))\n",
    "        V = np.reshape(V_old, (4,4))\n",
    "        print(\"Coverged_matrix\",V)\n",
    "\n",
    "    print(np.array(delta_decay).shape)\n",
    "    epochs = np.arange(len(reward_data))\n",
    "    f1 = plt.figure()\n",
    "    plt.plot(delta_decay, reward_data)\n",
    "    plt.xlabel('delta_decay')\n",
    "    plt.ylabel('reward_data')\n",
    "    plt.title('Learning Rate vs Reward Data')\n",
    "    f2 = plt.figure()\n",
    "    plt.plot(delta_decay)\n",
    "    plt.xlabel('Number of epochs')\n",
    "    plt.ylabel('Learning_rate')\n",
    "    plt.title('Learning Rate vs Epochs')\n",
    "    f3 = plt.figure()\n",
    "    plt.plot(reward_data)\n",
    "    plt.xlabel('Number of epochs')\n",
    "    plt.ylabel('Reward')\n",
    "    plt.title('Learning Rate vs Epochs')\n",
    "    \n",
    "\n",
    "    plt.show()\n",
    "#     plt.plot(reward_data)\n",
    "    return np.array(V)\n",
    "\n",
    "\n",
    "random_policy = np.ones([16, 4]) / 4\n",
    "#print(random_policy)\n",
    "v = policy_eval(random_policy, env)\n",
    "\n",
    "#expected_v = np.array([0., 14., 20., 22., 14., 18., 20., 20., 20., 20., 18., 14., 22., 20., 14., 0.])\n",
    "#np.testing.assert_array_almost_equal(v, expected_v, decimal=0)\n",
    "\n",
    "#print(v)\n",
    "#print(expected_v)\n",
    "\n",
    "# obs = env.reset()"
   ]
  },
  {
   "cell_type": "markdown",
   "metadata": {},
   "source": [
    "References: \n",
    "1.  Richard Sutton: Introduction to Reinforcement Learning Book. \n",
    "\n",
    "\n",
    "2.  https://towardsdatascience.com/reinforcement-learning-dynamic-programming-2b89da6ea1b\n",
    "\n",
    "\n",
    "3. Gym Environments\n"
   ]
  },
  {
   "cell_type": "code",
   "execution_count": null,
   "metadata": {},
   "outputs": [],
   "source": []
  }
 ],
 "metadata": {
  "kernelspec": {
   "display_name": "Python 3",
   "language": "python",
   "name": "python3"
  },
  "language_info": {
   "codemirror_mode": {
    "name": "ipython",
    "version": 3
   },
   "file_extension": ".py",
   "mimetype": "text/x-python",
   "name": "python",
   "nbconvert_exporter": "python",
   "pygments_lexer": "ipython3",
   "version": "3.7.3"
  }
 },
 "nbformat": 4,
 "nbformat_minor": 2
}
